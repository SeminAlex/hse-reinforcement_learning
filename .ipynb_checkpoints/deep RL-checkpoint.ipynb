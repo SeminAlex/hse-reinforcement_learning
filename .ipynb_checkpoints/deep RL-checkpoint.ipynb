{
 "cells": [
  {
   "cell_type": "markdown",
   "metadata": {},
   "source": [
    "Dependencies"
   ]
  },
  {
   "cell_type": "code",
   "execution_count": 2,
   "metadata": {
    "collapsed": false
   },
   "outputs": [
    {
     "name": "stderr",
     "output_type": "stream",
     "text": [
      "Using TensorFlow backend.\n"
     ]
    }
   ],
   "source": [
    "#dependencies\n",
    "import random\n",
    "import numpy as np\n",
    "from collections import deque\n",
    "from keras.models import Sequential\n",
    "from keras.layers import Dense\n",
    "from keras import optimizers\n",
    "from keras.optimizers import RMSprop, Adam\n",
    "import gym\n"
   ]
  },
  {
   "cell_type": "markdown",
   "metadata": {},
   "source": [
    "Q(state, action) = R(state, action) + Gamma * Max[Q(next state, all actions)]\n",
    "\n",
    "The Gamma parameter has a range of 0 to 1 (0 <= Gamma > 1).  If Gamma is closer to zero, the agent will tend to consider only immediate rewards.  If Gamma is closer to one, the agent will consider future rewards with greater weight, willing to delay the reward.\n",
    "\n",
    "epsilon parameter determines with which probability our agent takes a random action"
   ]
  },
  {
   "cell_type": "markdown",
   "metadata": {},
   "source": [
    "## First model\n",
    "first model "
   ]
  },
  {
   "cell_type": "code",
   "execution_count": 5,
   "metadata": {
    "collapsed": false
   },
   "outputs": [],
   "source": [
    "class Agent:\n",
    "    def __init__(self, envName=('CartPole-v0'), gamma=None, epsilon=None, e_decay=0.995, learning_rate=0.001):\n",
    "        self.envName = envName\n",
    "        self.env = gym.make(envName)\n",
    "        self.memory = deque(maxlen=10000)\n",
    "        self.gamma = gamma\n",
    "        self.epsilon = epsilon\n",
    "        self.e_decay = e_decay\n",
    "        self.e_min = 0.02  # minimal exploraton rate\n",
    "        self.learning_rate = learning_rate\n",
    "        self.model = self._build_model()\n",
    "\n",
    "    def _build_model(self):\n",
    "        '''\n",
    "        builds a neural network\n",
    "        :return: model - neural network object\n",
    "        '''\n",
    "        model = Sequential()\n",
    "        model.add(Dense(24, input_dim=self.env.observation_space.shape[0], activation='relu'))\n",
    "        model.add(Dense(24, activation='relu'))\n",
    "        model.add(Dense(self.env.action_space.n, activation='linear'))\n",
    "        model.compile(loss='mse', optimizer=Adam(lr=self.learning_rate))\n",
    "        return model\n",
    "\n",
    "    def remember(self, state, action, reward, next_state, done):\n",
    "        '''\n",
    "        add <s,a,r,s'> vector to memory\n",
    "        :param state: agent state\n",
    "        :param action: action to perform\n",
    "        :param reward: reward given after performed action\n",
    "        :param next_state: next state\n",
    "        :param done: bool parameter which determines whrther current state terminal or not\n",
    "        :return: \n",
    "        '''\n",
    "        self.memory.append((state, action, reward, next_state, done))\n",
    "\n",
    "    def act(self, state):\n",
    "        '''\n",
    "        defines gow agent will actin a given state\n",
    "        :param state: state of our agent\n",
    "        :return: action to be perfomed\n",
    "        '''\n",
    "        if np.random.rand() <= self.epsilon:\n",
    "            return random.randrange(self.env.action_space.n)\n",
    "        act_values = self.model.predict(state)\n",
    "        return np.argmax(act_values[0])  # returns action\n",
    "\n",
    "    def replay(self, batch_size):\n",
    "        '''\n",
    "        train network by sampling elements from memory\n",
    "        :param batch_size: sample size of agent memory\n",
    "        :return: \n",
    "        '''\n",
    "        batch_size = min(batch_size, len(self.memory))\n",
    "        minibatch = random.sample(self.memory, batch_size)\n",
    "        X = np.zeros((batch_size, self.env.observation_space.shape[0]))\n",
    "        Y = np.zeros((batch_size, self.env.action_space.n))\n",
    "        for i in range(batch_size):\n",
    "            state, action, reward, next_state, done = minibatch[i]\n",
    "            target = self.model.predict(state)[0]\n",
    "            # print \"i\", i, \" predict\", self.model.predict(state)\n",
    "            if done:\n",
    "                target[action] = reward\n",
    "            else:\n",
    "                target[action] = reward + self.gamma * np.amax(self.model.predict(next_state)[0])\n",
    "            X[i], Y[i] = state, target\n",
    "        self.model.fit(X, Y, batch_size=batch_size, nb_epoch=1, verbose=0)\n",
    "        if self.epsilon > self.e_min:\n",
    "            self.epsilon *= self.e_decay\n",
    "\n",
    "    def load(self, name):\n",
    "        '''\n",
    "        load weights from a file\n",
    "        :param name: filename\n",
    "        :return: \n",
    "        '''\n",
    "        self.model.load_weights(name)\n",
    "\n",
    "    def save(self, name):\n",
    "        '''\n",
    "        seves weights to a file\n",
    "        :param name: filename\n",
    "        :return: \n",
    "        '''\n",
    "        self.model.save_weights(name)\n"
   ]
  },
  {
   "cell_type": "markdown",
   "metadata": {},
   "source": [
    "### Cartpole"
   ]
  },
  {
   "cell_type": "code",
   "execution_count": null,
   "metadata": {
    "collapsed": false,
    "scrolled": true
   },
   "outputs": [],
   "source": [
    "agent = Agent('CartPole-v0',.95,1.0)\n",
    "# Iterate the game\n",
    "#####################################\n",
    "#uncomment if u want to load weights#\n",
    "#####################################\n",
    "# agent.model.load_weights(\"cartpole3.kek\")\n",
    "\n",
    "#####################################\n",
    "#uncomment if u want to save scores#\n",
    "#####################################\n",
    "f = open('data/CartpoleFirstModel.txt', 'w')\n",
    "\n",
    "for e in range(3000):\n",
    "    state = agent.env.reset()\n",
    "    state_size = agent.env.observation_space.shape[0]\n",
    "    state = np.reshape(state, [1,state_size])\n",
    "    resultReward = 0\n",
    "    while True:\n",
    "        agent.env.render()\n",
    "        action = agent.act(state)\n",
    "        next_state, reward, done, _ = agent.env.step(action)\n",
    "        # reward = reward if not done else -1\n",
    "        next_state = np.reshape(next_state, [1, state_size])\n",
    "        agent.remember(state, action, reward, next_state, done)\n",
    "        state = next_state\n",
    "        resultReward += reward\n",
    "        if done and resultReward <= 190:\n",
    "            reward = -1\n",
    "        else:\n",
    "            reward = reward\n",
    "        if done:\n",
    "            if resultReward > 180:\n",
    "                print 'episode ', e, ' score: ', resultReward\n",
    "            print >> f, resultReward #, 'ep', e\n",
    "            break\n",
    "    agent.replay(64)\n",
    "    if e % 10 == 0:\n",
    "         agent.save(\"cartpoleFirstModelWeights.kek\")\n",
    "f.close()"
   ]
  },
  {
   "cell_type": "markdown",
   "metadata": {},
   "source": [
    "### Mountain Car"
   ]
  },
  {
   "cell_type": "code",
   "execution_count": 14,
   "metadata": {
    "collapsed": false,
    "scrolled": true
   },
   "outputs": [
    {
     "name": "stderr",
     "output_type": "stream",
     "text": [
      "[2017-10-17 13:31:50,313] Making new env: MountainCar-v0\n"
     ]
    }
   ],
   "source": [
    "agent = Agent('MountainCar-v0',1.,1.0,0.9995,0.0001)\n",
    "# Iterate the game\n",
    "f=open('mountainCarFirstModel.txt','w')\n",
    "for e in range(10000):\n",
    "    state = agent.env.reset()\n",
    "    state_size = agent.env.observation_space.shape[0]\n",
    "    state = np.reshape(state, [1,state_size])\n",
    "    resultReward = 0\n",
    "    while True:\n",
    "        agent.env.render()\n",
    "        action = agent.act(state)\n",
    "        next_state, reward, done, _ = agent.env.step(action)\n",
    "        # reward = reward if not done else -1\n",
    "        next_state = np.reshape(next_state, [1, state_size])\n",
    "        agent.remember(state, action, reward, next_state, done)\n",
    "        state = next_state\n",
    "        resultReward += reward\n",
    "        if done:\n",
    "            if resultReward > -200:\n",
    "                print 'ep', e , 'score', resultReward\n",
    "            print >> f, resultReward\n",
    "            break\n",
    "    agent.replay(64)\n",
    "\n",
    "    if e % 50 == 0:\n",
    "        agent.save(\"MountainCarFirstModelWeights.kek\")\n",
    "f.close()\n"
   ]
  },
  {
   "cell_type": "markdown",
   "metadata": {},
   "source": [
    "# Second model"
   ]
  },
  {
   "cell_type": "code",
   "execution_count": 16,
   "metadata": {
    "collapsed": true
   },
   "outputs": [],
   "source": [
    "class Agent2:\n",
    "    def __init__(self, state_size, action_size):\n",
    "        self.render = True\n",
    "\n",
    "        self.state_size = state_size\n",
    "        self.action_size = action_size\n",
    "\n",
    "        self.memory = deque(maxlen=10000) #memory size\n",
    "        self.discount_factor = 0.99\n",
    "        self.epsilon = 1.0\n",
    "        self.e_min = 0.005\n",
    "        self.e_decay = 0.00002\n",
    "        self.train_start = 1000\n",
    "\n",
    "        self.model = self.build_model()\n",
    "        self.target_model = self.build_model()\n",
    "        self.update_target_model()\n",
    "\n",
    "    def build_model(self):\n",
    "        '''\n",
    "        build neural net\n",
    "        :return: model - neural net object\n",
    "        '''\n",
    "        model = Sequential()\n",
    "        model.add(Dense(32, input_dim=self.state_size, activation='relu', kernel_initializer='he_uniform'))\n",
    "        model.add(Dense(16, activation='relu', kernel_initializer='he_uniform'))\n",
    "        model.add(Dense(self.action_size, activation='linear', kernel_initializer='he_uniform'))\n",
    "        model.summary()\n",
    "        model.compile(loss='mse', optimizer=Adam(lr=0.001))\n",
    "        return model\n",
    "\n",
    "    def update_target_model(self):\n",
    "        '''\n",
    "        update weights of our target model\n",
    "        :return:\n",
    "        '''\n",
    "        self.target_model.set_weights(self.model.get_weights())\n",
    "\n",
    "    def act(self, state):\n",
    "        '''\n",
    "        perform agent action in a given state\n",
    "        :param state: agent state\n",
    "        :return:\n",
    "        '''\n",
    "        if np.random.rand() <= self.epsilon:\n",
    "            return random.randrange(self.action_size)\n",
    "        else:\n",
    "            q_value = self.model.predict(state)\n",
    "            return np.argmax(q_value[0])\n",
    "\n",
    "    def remember(self, state, action, reward, next_state, done):\n",
    "        '''\n",
    "        add <s,a,r,s'> vector to agent memory\n",
    "        :param state: agent state\n",
    "        :param action: action to perform\n",
    "        :param reward: collected reward\n",
    "        :param next_state: next state after performing actopn\n",
    "        :param done: bool variable which determines is current state terminal or not\n",
    "        :return:\n",
    "        '''\n",
    "        if action == 2:\n",
    "            action = 1\n",
    "        self.memory.append((state, action, reward, next_state, done))\n",
    "        if self.epsilon > self.e_min:\n",
    "            self.epsilon -= self.e_decay\n",
    "        # print(len(self.memory))\n",
    "\n",
    "    def replay(self, batch_size):\n",
    "        '''\n",
    "        train network by sampling elements from memory\n",
    "        :param batch_size:\n",
    "        :return:\n",
    "        '''\n",
    "        if len(self.memory) < self.train_start:\n",
    "            return\n",
    "        batch_size = min(batch_size, len(self.memory))\n",
    "        mini_batch = random.sample(self.memory, batch_size)\n",
    "\n",
    "        update_input = np.zeros((batch_size, self.state_size))\n",
    "        update_target = np.zeros((batch_size, self.action_size))\n",
    "\n",
    "        for i in range(batch_size):\n",
    "            state, action, reward, next_state, done = mini_batch[i]\n",
    "            target = self.model.predict(state)[0]\n",
    "\n",
    "            if done:\n",
    "                target[action] = reward\n",
    "            else:\n",
    "                target[action] = reward + self.discount_factor * \\\n",
    "                                          np.amax(self.target_model.predict(next_state)[0])\n",
    "            update_input[i] = state\n",
    "            update_target[i] = target\n",
    "\n",
    "        self.model.fit(update_input, update_target, batch_size=batch_size, epochs=1, verbose=0)\n",
    "\n",
    "    def load(self, name):\n",
    "        '''\n",
    "        loadweights of pre-trained network\n",
    "        :param name: filename to load\n",
    "        :return:\n",
    "        '''\n",
    "        self.model.load_weights(name)\n",
    "\n",
    "    def save(self, name):\n",
    "        '''\n",
    "        store network weights\n",
    "        :param name: filename to save\n",
    "        :return:\n",
    "        '''\n",
    "        self.model.save_weights(name)\n",
    "\n"
   ]
  },
  {
   "cell_type": "markdown",
   "metadata": {},
   "source": [
    "### Cartpole"
   ]
  },
  {
   "cell_type": "code",
   "execution_count": null,
   "metadata": {
    "collapsed": false
   },
   "outputs": [],
   "source": [
    "env = gym.make('CartPole-v0')\n",
    "state_size = env.observation_space.shape[0]\n",
    "#action_size = env.action_space.n\n",
    "# reduce action size for mountain car problem\n",
    "action_size = 2\n",
    "agent = Agent2(state_size, action_size)\n",
    "# agent.load(\"./save/MountainCar1.kek\")\n",
    "# uncomment to save scores to a file\n",
    "f= open('scoresCartpoleSecondModel.txt', 'w')\n",
    "for e in range(3000):\n",
    "    done = False\n",
    "    score = 0\n",
    "    state = env.reset()\n",
    "    state = np.reshape(state, [1, state_size])\n",
    "    # print(state)\n",
    "\n",
    "\n",
    "    while not done:\n",
    "        if agent.render:\n",
    "            env.render()\n",
    "        action = agent.act(state)\n",
    "\n",
    "        next_state, reward, done, info = env.step(action)\n",
    "        next_state = np.reshape(next_state, [1, state_size])\n",
    "        #reward = reward if not done else -100\n",
    "\n",
    "        agent.remember(state, action, reward, next_state, done)\n",
    "        score += reward\n",
    "        state = next_state\n",
    "\n",
    "        if done:\n",
    "            env.reset()\n",
    "            agent.update_target_model()\n",
    "            # print ony successful episodes\n",
    "            if score > 180:\n",
    "                print \"episode:\", e, \"  score:\", score\n",
    "            # uncomment to save scores to a file\n",
    "            print >> f, score\n",
    "    agent.replay(64)\n",
    "\n",
    "    # save model weights every 30 iterations\n",
    "    if e % 10 == 0:\n",
    "        agent.save(\"cartpolesecondModel.kek\")\n",
    "# file close, uncomment if you want to use file\n",
    "f.close()"
   ]
  },
  {
   "cell_type": "markdown",
   "metadata": {},
   "source": [
    "### mountain car"
   ]
  },
  {
   "cell_type": "code",
   "execution_count": null,
   "metadata": {
    "collapsed": true
   },
   "outputs": [],
   "source": [
    "env = gym.make('MountainCar-v0')\n",
    "state_size = env.observation_space.shape[0]\n",
    "#action_size = env.action_space.n\n",
    "# reduce action size for mountain car problem\n",
    "action_size = 2\n",
    "agent = Agent2(state_size, action_size)\n",
    "# agent.load(\"./save/MountainCar1.kek\")\n",
    "# uncomment to save scores to a file\n",
    "#f= open('scoresCar1.txt', 'w')\n",
    "for e in range(100000):\n",
    "    done = False\n",
    "    score = 0\n",
    "    state = env.reset()\n",
    "    state = np.reshape(state, [1, state_size])\n",
    "    # print(state)\n",
    "\n",
    "    take_action = 0\n",
    "\n",
    "    action_count = 0\n",
    "\n",
    "    while not done:\n",
    "        if agent.render:\n",
    "            env.render()\n",
    "\n",
    "        action_count = action_count + 1\n",
    "\n",
    "        if action_count == 4:\n",
    "            action = agent.act(state)\n",
    "            action_count = 0\n",
    "\n",
    "            if action == 0:\n",
    "                take_action = 0\n",
    "            elif action == 1:\n",
    "                take_action = 2\n",
    "\n",
    "        next_state, reward, done, info = env.step(take_action)\n",
    "        next_state = np.reshape(next_state, [1, state_size])\n",
    "        #reward = reward if not done else -100\n",
    "\n",
    "        agent.remember(state, take_action, reward, next_state, done)\n",
    "        agent.replay(64)\n",
    "        score += reward\n",
    "        state = next_state\n",
    "\n",
    "        if done:\n",
    "            env.reset()\n",
    "            agent.update_target_model()\n",
    "            # print ony successful episodes\n",
    "            if score > -200:\n",
    "                print \"episode:\", e, \"  score:\", score\n",
    "            # uncomment to save scores to a file\n",
    "            #print >> f,\"episode:\", e, \"  score:\", score\n",
    "    # save model weights every 50 iterations\n",
    "    if e % 50 == 0:\n",
    "        agent.save(\"MountainCar1.kek\")\n",
    "# file close, uncomment if you want to use file\n",
    "# f.close()"
   ]
  },
  {
   "cell_type": "markdown",
   "metadata": {
    "collapsed": true
   },
   "source": [
    "# Results"
   ]
  },
  {
   "cell_type": "code",
   "execution_count": 28,
   "metadata": {
    "collapsed": false
   },
   "outputs": [
    {
     "data": {
      "image/png": "[encoded data removed]",
      "text/plain": [
       "<matplotlib.figure.Figure at 0x1321ff890>"
      ]
     },
     "metadata": {},
     "output_type": "display_data"
    }
   ],
   "source": [
    "%matplotlib inline\n",
    "import matplotlib.pyplot as plt\n",
    "import numpy as np\n",
    "\n",
    "with open(\"data/CartPoleFirstModel.txt\") as f:\n",
    "    first = np.array([float(i) for i in f.read().split()])\n",
    "with open(\"data/scoresCartpoleSecondModel.txt\") as f:\n",
    "    second = np.array([float(i) for i in f.read().split()])\n",
    "\n",
    "first = np.mean(first.reshape(-1,100), axis =1)\n",
    "second = np.mean(second.reshape(-1,100), axis =1)\n",
    "\n",
    "plt.plot(first, \"b\", label=\"first\")\n",
    "plt.plot(second, \"r\", label = \"second\")\n",
    "plt.legend(bbox_to_anchor=(0., 1.02, 1., .102), loc=3,ncol=2, mode=\"expand\", borderaxespad=0.)\n",
    "\n",
    "plt.ylabel('score')\n",
    "plt.xlabel('episode(x100)')\n",
    "plt.show()\n",
    "\n"
   ]
  },
  {
   "cell_type": "code",
   "execution_count": 27,
   "metadata": {
    "collapsed": false
   },
   "outputs": [
    {
     "data": {
      "image/png": "[encoded data removed]",
      "text/plain": [
       "<matplotlib.figure.Figure at 0x12f12af50>"
      ]
     },
     "metadata": {},
     "output_type": "display_data"
    }
   ],
   "source": [
    "\n",
    "with open(\"data/mountainCarFirstModel.txt\") as f:\n",
    "    first = np.array([float(i) for i in f.read().split()])\n",
    "with open(\"data/scoresCarSecondModel.txt\") as f:\n",
    "    second = np.array([float(i) for i in f.read().split()])\n",
    "\n",
    "if first.shape[0] != second.shape[0]:\n",
    "\n",
    "    diff = second.shape[0] - first.shape[0]\n",
    "    first = list(first)\n",
    "    first.extend([-200] * diff)\n",
    "    first = np.array(first)\n",
    "\n",
    "first = np.mean(first.reshape(-1,100), axis =1)\n",
    "second = np.mean(second.reshape(-1,100), axis =1)\n",
    "\n",
    "plt.plot(first, \"b\")\n",
    "plt.plot(second, \"r\")\n",
    "plt.ylabel('score')\n",
    "plt.xlabel('episode(x100)')\n",
    "plt.legend(bbox_to_anchor=(0., 1.02, 1., .102), loc=3,ncol=2, mode=\"expand\", borderaxespad=0.)\n",
    "plt.show()"
   ]
  },
  {
   "cell_type": "code",
   "execution_count": null,
   "metadata": {
    "collapsed": true
   },
   "outputs": [],
   "source": []
  }
 ],
 "metadata": {
  "kernelspec": {
   "display_name": "Python 2",
   "language": "python",
   "name": "python2"
  },
  "language_info": {
   "codemirror_mode": {
    "name": "ipython",
    "version": 2
   },
   "file_extension": ".py",
   "mimetype": "text/x-python",
   "name": "python",
   "nbconvert_exporter": "python",
   "pygments_lexer": "ipython2",
   "version": "2.7.13"
  }
 },
 "nbformat": 4,
 "nbformat_minor": 2
}
